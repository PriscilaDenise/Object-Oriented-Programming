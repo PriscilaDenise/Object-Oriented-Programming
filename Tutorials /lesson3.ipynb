{
 "cells": [
  {
   "cell_type": "code",
   "execution_count": 1,
   "metadata": {},
   "outputs": [
    {
     "name": "stdout",
     "output_type": "stream",
     "text": [
      "Mubeezi\n"
     ]
    }
   ],
   "source": [
    "class Student:\n",
    "    def __init__(self, fname,lname,reg):\n",
    "        self.fname = fname\n",
    "        self.lname = lname\n",
    "        self.reg = reg\n",
    "        self.email = f'{self.reg.lower()}@students.ucu.ac.ug'\n",
    "        self.department = 'Computing'\n",
    "\n",
    "    \n",
    "# Object instantiation and initialization \n",
    "std1 = Student('Denise', 'Muwanguzi', 'B20237')\n",
    "std2 = Student('Vanessa', 'Musaasizi', 'A23452')\n",
    "std3 = Student('Nicole', 'Mbabazi',  'B20238')\n",
    "\n",
    "std2.lname = 'Mubeezi'\n",
    "print(std2.lname)\n",
    "\n",
    "\n",
    "\n"
   ]
  },
  {
   "cell_type": "code",
   "execution_count": 7,
   "metadata": {},
   "outputs": [
    {
     "name": "stdout",
     "output_type": "stream",
     "text": [
      "['Maths']\n",
      "{'fname': 'Vanessa', 'lname': 'Mubeezi', 'reg': 'A23452', 'email': 'a23452@students.ucu.ac.ug', 'courses': ['Proj']}\n"
     ]
    }
   ],
   "source": [
    "class Student:\n",
    "    department = 'Computing'\n",
    "    offSub = ['OOP', 'Calculus', 'DAA', 'Ethics', 'Essentials', 'Proj']\n",
    "    def __init__(self, fname,lname,reg):\n",
    "        self.fname = fname\n",
    "        self.lname = lname\n",
    "        self.reg = reg\n",
    "        self.email = f'{self.reg.lower()}@students.ucu.ac.ug'\n",
    "        self.courses = ['Proj']\n",
    "\n",
    "    def regSub(self, *sub):\n",
    "        for s in sub:\n",
    "            if s not in Student.offSub:\n",
    "                raise ValueError (f'{s} is not offered here!!')\n",
    "                # print(f'{s} is not offered here!!')\n",
    "            if s in Student.offSub and s not in self.courses:\n",
    "                self.courses.append(s)\n",
    "        \n",
    "\n",
    "    \n",
    "# Object instantiation and initialization \n",
    "std1 = Student('Denise', 'Muwanguzi', 'B20237')\n",
    "std2 = Student('Vanessa', 'Musaasizi', 'A23452')\n",
    "std3 = Student('Nicole', 'Mbabazi',  'B20238')\n",
    "\n",
    "\n",
    "std1.regSub('Ethics', 'DAA', 'OOP')\n",
    "std1.courses = ['Maths']\n",
    "std2.lname = 'Mubeezi'\n",
    "\n",
    "\n",
    "\n",
    "print(std1.courses)\n",
    "print(std2.__dict__)\n"
   ]
  },
  {
   "cell_type": "code",
   "execution_count": 10,
   "metadata": {},
   "outputs": [
    {
     "name": "stdout",
     "output_type": "stream",
     "text": [
      "('fname', 'Denise')\n",
      "('lname', 'Muwanguzi')\n",
      "('reg', 'B20237')\n",
      "('email', 'B20237@students.ucu.ac.ug')\n",
      "('courses', ['Maths'])\n"
     ]
    }
   ],
   "source": [
    "class Student:\n",
    "    department = 'Computing'\n",
    "    offSub = ['OOP', 'Calculus', 'DAA', 'Ethics', 'Essentials', 'Proj']\n",
    "    def __init__(self, fname,lname,reg):\n",
    "        self.fname = fname\n",
    "        self.lname = lname\n",
    "        self.reg = reg\n",
    "        self.email = f'{self.reg}@students.ucu.ac.ug'\n",
    "        self.courses = ['Proj']\n",
    "\n",
    "    def regSub(self, *sub):\n",
    "        for s in sub:\n",
    "            if s not in Student.offSub:\n",
    "                raise ValueError (f'{s} is not offered here!!')\n",
    "                # print(f'{s} is not offered here!!')\n",
    "            if s in Student.offSub and s not in self.courses:\n",
    "                self.courses.append(s)\n",
    "        \n",
    "\n",
    "    \n",
    "# Object instantiation and initialization \n",
    "std1 = Student('Denise', 'Muwanguzi', 'B20237')\n",
    "std2 = Student('Vanessa', 'Musaasizi', 'A23452')\n",
    "std3 = Student('Nicole', 'Mbabazi',  'B20238')\n",
    "\n",
    "\n",
    "std1.regSub('Ethics', 'DAA', 'OOP')\n",
    "std1.courses = ['Maths']\n",
    "std2.lname = 'Mubeezi'\n",
    "\n",
    "\n",
    "\n",
    "for i in std1.__dict__.items():\n",
    "    print (i)\n"
   ]
  }
 ],
 "metadata": {
  "kernelspec": {
   "display_name": "Python 3",
   "language": "python",
   "name": "python3"
  },
  "language_info": {
   "codemirror_mode": {
    "name": "ipython",
    "version": 3
   },
   "file_extension": ".py",
   "mimetype": "text/x-python",
   "name": "python",
   "nbconvert_exporter": "python",
   "pygments_lexer": "ipython3",
   "version": "3.12.5"
  }
 },
 "nbformat": 4,
 "nbformat_minor": 2
}
