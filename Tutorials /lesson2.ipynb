{
 "cells": [
  {
   "cell_type": "markdown",
   "metadata": {},
   "source": [
    "Code 1"
   ]
  },
  {
   "cell_type": "code",
   "execution_count": 1,
   "metadata": {},
   "outputs": [
    {
     "name": "stdout",
     "output_type": "stream",
     "text": [
      "Computing\n"
     ]
    }
   ],
   "source": [
    "class Student:\n",
    "    def __init__(self, fname,lname,reg):\n",
    "        self.fname = fname\n",
    "        self.lname = lname\n",
    "        self.reg = reg\n",
    "        self.email = f'{self.reg.lower()}@students.ucu.ac.ug'\n",
    "        self.department = 'Computing'\n",
    "\n",
    "    \n",
    "# Object instantiation and initialization \n",
    "std1 = Student('Denise', 'Muwanguzi', 'B20237')\n",
    "std2 = Student('Vanessa', 'Musaasizi', 'A23452')\n",
    "std3 = Student('Nicole', 'Mbabazi',  'B20238')\n",
    "\n",
    "\n",
    "print(std3.department)\n"
   ]
  },
  {
   "cell_type": "markdown",
   "metadata": {},
   "source": [
    "Code 2"
   ]
  },
  {
   "cell_type": "code",
   "execution_count": 8,
   "metadata": {},
   "outputs": [
    {
     "ename": "ValueError",
     "evalue": "Math is not offered here!!",
     "output_type": "error",
     "traceback": [
      "\u001b[0;31m---------------------------------------------------------------------------\u001b[0m",
      "\u001b[0;31mValueError\u001b[0m                                Traceback (most recent call last)",
      "Cell \u001b[0;32mIn[8], line 26\u001b[0m\n\u001b[1;32m     23\u001b[0m std2 \u001b[38;5;241m=\u001b[39m Student(\u001b[38;5;124m'\u001b[39m\u001b[38;5;124mVanessa\u001b[39m\u001b[38;5;124m'\u001b[39m, \u001b[38;5;124m'\u001b[39m\u001b[38;5;124mMusaasizi\u001b[39m\u001b[38;5;124m'\u001b[39m, \u001b[38;5;124m'\u001b[39m\u001b[38;5;124mA23452\u001b[39m\u001b[38;5;124m'\u001b[39m)\n\u001b[1;32m     24\u001b[0m std3 \u001b[38;5;241m=\u001b[39m Student(\u001b[38;5;124m'\u001b[39m\u001b[38;5;124mNicole\u001b[39m\u001b[38;5;124m'\u001b[39m, \u001b[38;5;124m'\u001b[39m\u001b[38;5;124mMbabazi\u001b[39m\u001b[38;5;124m'\u001b[39m,  \u001b[38;5;124m'\u001b[39m\u001b[38;5;124mB20238\u001b[39m\u001b[38;5;124m'\u001b[39m)\n\u001b[0;32m---> 26\u001b[0m \u001b[43mstd1\u001b[49m\u001b[38;5;241;43m.\u001b[39;49m\u001b[43mregSub\u001b[49m\u001b[43m(\u001b[49m\u001b[38;5;124;43m'\u001b[39;49m\u001b[38;5;124;43mEthics\u001b[39;49m\u001b[38;5;124;43m'\u001b[39;49m\u001b[43m,\u001b[49m\u001b[43m \u001b[49m\u001b[38;5;124;43m'\u001b[39;49m\u001b[38;5;124;43mDAA\u001b[39;49m\u001b[38;5;124;43m'\u001b[39;49m\u001b[43m,\u001b[49m\u001b[43m \u001b[49m\u001b[38;5;124;43m'\u001b[39;49m\u001b[38;5;124;43mOOP\u001b[39;49m\u001b[38;5;124;43m'\u001b[39;49m\u001b[43m,\u001b[49m\u001b[43m \u001b[49m\u001b[38;5;124;43m'\u001b[39;49m\u001b[38;5;124;43mMath\u001b[39;49m\u001b[38;5;124;43m'\u001b[39;49m\u001b[43m)\u001b[49m\n\u001b[1;32m     30\u001b[0m \u001b[38;5;28mprint\u001b[39m(std1\u001b[38;5;241m.\u001b[39mcourses)\n",
      "Cell \u001b[0;32mIn[8], line 14\u001b[0m, in \u001b[0;36mStudent.regSub\u001b[0;34m(self, *sub)\u001b[0m\n\u001b[1;32m     12\u001b[0m \u001b[38;5;28;01mfor\u001b[39;00m s \u001b[38;5;129;01min\u001b[39;00m sub:\n\u001b[1;32m     13\u001b[0m     \u001b[38;5;28;01mif\u001b[39;00m s \u001b[38;5;129;01mnot\u001b[39;00m \u001b[38;5;129;01min\u001b[39;00m Student\u001b[38;5;241m.\u001b[39moffSub:\n\u001b[0;32m---> 14\u001b[0m         \u001b[38;5;28;01mraise\u001b[39;00m \u001b[38;5;167;01mValueError\u001b[39;00m (\u001b[38;5;124mf\u001b[39m\u001b[38;5;124m'\u001b[39m\u001b[38;5;132;01m{\u001b[39;00ms\u001b[38;5;132;01m}\u001b[39;00m\u001b[38;5;124m is not offered here!!\u001b[39m\u001b[38;5;124m'\u001b[39m)\n\u001b[1;32m     15\u001b[0m         \u001b[38;5;66;03m# print(f'{s} is not offered here!!')\u001b[39;00m\n\u001b[1;32m     16\u001b[0m     \u001b[38;5;28;01mif\u001b[39;00m s \u001b[38;5;129;01min\u001b[39;00m Student\u001b[38;5;241m.\u001b[39moffSub \u001b[38;5;129;01mand\u001b[39;00m s \u001b[38;5;129;01mnot\u001b[39;00m \u001b[38;5;129;01min\u001b[39;00m \u001b[38;5;28mself\u001b[39m\u001b[38;5;241m.\u001b[39mcourses:\n",
      "\u001b[0;31mValueError\u001b[0m: Math is not offered here!!"
     ]
    }
   ],
   "source": [
    "class Student:\n",
    "    department = 'Computing'\n",
    "    offSub = ['OOP', 'Calculus', 'DAA', 'Ethics', 'Essentials', 'Proj']\n",
    "    def __init__(self, fname,lname,reg):\n",
    "        self.fname = fname\n",
    "        self.lname = lname\n",
    "        self.reg = reg\n",
    "        self.email = f'{self.reg.lower()}@students.ucu.ac.ug'\n",
    "        self.courses = ['Proj']\n",
    "\n",
    "    def regSub(self, *sub):\n",
    "        for s in sub:\n",
    "            if s not in Student.offSub:\n",
    "                raise ValueError (f'{s} is not offered here!!')\n",
    "                # print(f'{s} is not offered here!!')\n",
    "            if s in Student.offSub and s not in self.courses:\n",
    "                self.courses.append(s)\n",
    "        \n",
    "\n",
    "    \n",
    "# Object instantiation and initialization \n",
    "std1 = Student('Denise', 'Muwanguzi', 'B20237')\n",
    "std2 = Student('Vanessa', 'Musaasizi', 'A23452')\n",
    "std3 = Student('Nicole', 'Mbabazi',  'B20238')\n",
    "\n",
    "std1.regSub('Ethics', 'DAA', 'OOP')\n",
    "\n",
    "\n",
    "\n",
    "print(std1.courses)\n"
   ]
  }
 ],
 "metadata": {
  "kernelspec": {
   "display_name": "Python 3",
   "language": "python",
   "name": "python3"
  },
  "language_info": {
   "codemirror_mode": {
    "name": "ipython",
    "version": 3
   },
   "file_extension": ".py",
   "mimetype": "text/x-python",
   "name": "python",
   "nbconvert_exporter": "python",
   "pygments_lexer": "ipython3",
   "version": "3.12.5"
  }
 },
 "nbformat": 4,
 "nbformat_minor": 2
}
