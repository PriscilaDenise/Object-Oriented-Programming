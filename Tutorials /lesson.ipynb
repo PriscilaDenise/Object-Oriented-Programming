{
 "cells": [
  {
   "cell_type": "markdown",
   "metadata": {},
   "source": [
    "Code 1"
   ]
  },
  {
   "cell_type": "code",
   "execution_count": 2,
   "metadata": {},
   "outputs": [
    {
     "name": "stdout",
     "output_type": "stream",
     "text": [
      "B20237\n",
      "Musaasizi\n"
     ]
    }
   ],
   "source": [
    "class Student:\n",
    "    pass \n",
    "\n",
    "#Object instantiation\n",
    "std1 = Student()\n",
    "std2 = Student()\n",
    "\n",
    "#Object initialization \n",
    "std1.fname = 'Denise'\n",
    "std1.lname = 'Muwanguzi'\n",
    "std1.reg = 'B20237'\n",
    "std2.fname = 'Vanessa'\n",
    "std2.lname = 'Musaasizi'\n",
    "std2.reg = 'A23452'\n",
    "\n",
    "print(std1.reg)\n",
    "print(std2.lname)\n"
   ]
  },
  {
   "cell_type": "markdown",
   "metadata": {},
   "source": [
    "Code 2"
   ]
  },
  {
   "cell_type": "code",
   "execution_count": 3,
   "metadata": {},
   "outputs": [
    {
     "name": "stdout",
     "output_type": "stream",
     "text": [
      "B20237\n",
      "Musaasizi\n"
     ]
    }
   ],
   "source": [
    "class Student:\n",
    "    def initialize(obj, f,l,r):\n",
    "        obj.fname = f\n",
    "        obj.lname = l\n",
    "        obj.reg = r\n",
    "\n",
    "# Object instantiation\n",
    "std1 = Student()\n",
    "std2 = Student()\n",
    "\n",
    "#Object initialization \n",
    "Student.initialize(std1, 'Denise', 'Muwanguzi', 'B20237')\n",
    "Student.initialize(std2, 'Vanessa', 'Musaasizi', 'A23452')\n",
    "\n",
    "print(std1.reg)\n",
    "print(std2.lname)\n",
    "\n"
   ]
  },
  {
   "cell_type": "markdown",
   "metadata": {},
   "source": [
    "Code 3"
   ]
  },
  {
   "cell_type": "code",
   "execution_count": 4,
   "metadata": {},
   "outputs": [
    {
     "name": "stdout",
     "output_type": "stream",
     "text": [
      "B20237\n",
      "Musaasizi\n"
     ]
    }
   ],
   "source": [
    "class Student:\n",
    "    def initialize(obj, f,l,r):\n",
    "        obj.fname = f\n",
    "        obj.lname = l\n",
    "        obj.reg = r\n",
    "\n",
    "# Object instantiation\n",
    "std1 = Student()\n",
    "std2 = Student()\n",
    "\n",
    "#Object initialization \n",
    "std1.initialize('Denise', 'Muwanguzi', 'B20237')\n",
    "std2.initialize('Vanessa', 'Musaasizi', 'A23452')\n",
    "\n",
    "print(std1.reg)\n",
    "print(std2.lname)"
   ]
  },
  {
   "cell_type": "markdown",
   "metadata": {},
   "source": [
    "Code 4"
   ]
  },
  {
   "cell_type": "code",
   "execution_count": 5,
   "metadata": {},
   "outputs": [
    {
     "name": "stdout",
     "output_type": "stream",
     "text": [
      "B20237\n",
      "Musaasizi\n"
     ]
    }
   ],
   "source": [
    "class Student:\n",
    "    def initialize(self, fname,lname,reg):\n",
    "        self.fname = fname\n",
    "        self.lname = lname\n",
    "        self.reg = reg\n",
    "\n",
    "# Object instantiation\n",
    "std1 = Student()\n",
    "std2 = Student()\n",
    "\n",
    "#Object initialization \n",
    "std1.initialize('Denise', 'Muwanguzi', 'B20237')\n",
    "std2.initialize('Vanessa', 'Musaasizi', 'A23452')\n",
    "\n",
    "print(std1.reg)\n",
    "print(std2.lname)"
   ]
  },
  {
   "cell_type": "markdown",
   "metadata": {},
   "source": [
    "Code 5"
   ]
  },
  {
   "cell_type": "code",
   "execution_count": 6,
   "metadata": {},
   "outputs": [
    {
     "name": "stdout",
     "output_type": "stream",
     "text": [
      "B20237\n",
      "Musaasizi\n"
     ]
    }
   ],
   "source": [
    "class Student:\n",
    "    def __init__(self, fname,lname,reg):\n",
    "        self.fname = fname\n",
    "        self.lname = lname\n",
    "        self.reg = reg\n",
    "\n",
    "# Object instantiation and initialization \n",
    "std1 = Student('Denise', 'Muwanguzi', 'B20237')\n",
    "std2 = Student('Vanessa', 'Musaasizi', 'A23452')\n",
    "\n",
    "\n",
    "print(std1.reg)\n",
    "print(std2.lname)"
   ]
  },
  {
   "cell_type": "markdown",
   "metadata": {},
   "source": [
    "Code 6"
   ]
  },
  {
   "cell_type": "code",
   "execution_count": 7,
   "metadata": {},
   "outputs": [
    {
     "name": "stdout",
     "output_type": "stream",
     "text": [
      "B20237\n",
      "Musaasizi\n",
      "b20237@students.ucu.ac.ug\n"
     ]
    }
   ],
   "source": [
    "class Student:\n",
    "    def __init__(self, fname,lname,reg):\n",
    "        self.fname = fname\n",
    "        self.lname = lname\n",
    "        self.reg = reg\n",
    "        self.email = f'{self.reg.lower()}@students.ucu.ac.ug'\n",
    "\n",
    "# Object instantiation and initialization \n",
    "std1 = Student('Denise', 'Muwanguzi', 'B20237')\n",
    "std2 = Student('Vanessa', 'Musaasizi', 'A23452')\n",
    "\n",
    "\n",
    "print(std1.reg)\n",
    "print(std2.lname)\n",
    "print(std1.email)"
   ]
  },
  {
   "cell_type": "markdown",
   "metadata": {},
   "source": [
    "Code 7"
   ]
  },
  {
   "cell_type": "code",
   "execution_count": 8,
   "metadata": {},
   "outputs": [
    {
     "name": "stdout",
     "output_type": "stream",
     "text": [
      "Welcome Vanessa Musaasizi\n"
     ]
    }
   ],
   "source": [
    "class Student:\n",
    "    def __init__(self, fname,lname,reg):\n",
    "        self.fname = fname\n",
    "        self.lname = lname\n",
    "        self.reg = reg\n",
    "        self.email = f'{self.reg.lower()}@students.ucu.ac.ug'\n",
    "\n",
    "    def welcome(self):\n",
    "        return f'Welcome {self.fname} {self.lname}'\n",
    "\n",
    "# Object instantiation and initialization \n",
    "std1 = Student('Denise', 'Muwanguzi', 'B20237')\n",
    "std2 = Student('Vanessa', 'Musaasizi', 'A23452')\n",
    "\n",
    "\n",
    "print(std2.welcome())\n"
   ]
  }
 ],
 "metadata": {
  "kernelspec": {
   "display_name": "Python 3",
   "language": "python",
   "name": "python3"
  },
  "language_info": {
   "codemirror_mode": {
    "name": "ipython",
    "version": 3
   },
   "file_extension": ".py",
   "mimetype": "text/x-python",
   "name": "python",
   "nbconvert_exporter": "python",
   "pygments_lexer": "ipython3",
   "version": "3.12.5"
  }
 },
 "nbformat": 4,
 "nbformat_minor": 2
}
