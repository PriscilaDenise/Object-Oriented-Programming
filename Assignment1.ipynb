{
 "cells": [
  {
   "cell_type": "markdown",
   "metadata": {},
   "source": [
    "## ASSIGNMENT 1\n",
    "\n",
    "#### QN 1   Creating a class and objects \n",
    "#### QN 2   Methods and objrct behavior  "
   ]
  },
  {
   "cell_type": "code",
   "execution_count": 2,
   "metadata": {},
   "outputs": [
    {
     "name": "stdout",
     "output_type": "stream",
     "text": [
      "Car: Toyota, Corolla \n",
      " Year: 2021\n",
      " Mileage: 25670Km\n",
      "Car: Honda, Civic \n",
      " Year: 2006\n",
      " Mileage: 14000Km\n",
      "Car: Ford, Mustang \n",
      " Year: 2012\n",
      " Mileage: 120000Km\n",
      "You've driven a distance of 100 Km.\n",
      "Car: Nissan, Altima \n",
      " Year: 2022\n",
      " Mileage: 5100Km\n"
     ]
    }
   ],
   "source": [
    "class car: \n",
    "    def __init__ (self, brand:str, model:str, year:int, mileage:int):\n",
    "        self.brand = brand\n",
    "        self.model = model \n",
    "        self.year = year \n",
    "        self.mileage = mileage\n",
    "\n",
    "    def display_info(self):\n",
    "        print (f\"Car: {self.brand}, {self.model} \\n Year: {self.year}\\n Mileage: {self.mileage}Km\")\n",
    "\n",
    "    def drive(self, distance):\n",
    "        self.mileage += distance \n",
    "\n",
    "        print(f\"You've driven a distance of {distance} Km.\")\n",
    "\n",
    "car1 = car(\"Toyota\", \"Corolla\", 2021, 25670)\n",
    "car2 = car(\"Honda\", \"Civic\", 2006, 14000)\n",
    "car3 = car(\"Ford\", \"Mustang\", 2012, 120000)\n",
    "car4 = car(\"Nissan\", \"Altima\", 2022, 5000)\n",
    "\n",
    "car1.display_info()\n",
    "car2.display_info()\n",
    "car3.display_info()\n",
    "\n",
    "car4.drive (100)\n",
    "car4.display_info()"
   ]
  },
  {
   "cell_type": "markdown",
   "metadata": {},
   "source": []
  },
  {
   "cell_type": "markdown",
   "metadata": {},
   "source": [
    "#### QN 3   Benefits of OOP "
   ]
  },
  {
   "cell_type": "code",
   "execution_count": null,
   "metadata": {},
   "outputs": [],
   "source": [
    "class Electric_car(car):\n",
    "    def __init__(self, brand:str, model:str, year:int, mileage:int, battery_capacity:int, charge_level:int):\n",
    "        super().__init__(brand, model, year, mileage)\n",
    "        self.battery_capacity = battery_capacity\n",
    "        self.charge_level = charge_level\n",
    "\n",
    "    def charge(self, amount):\n",
    "        self.charge_level = min(self.charge_level + amount, 100)\n",
    "        print(f\"Car has charged to {self.charge_level}%.\")\n",
    "\n",
    "    def display_info(self):\n",
    "        super().display_info()  \n",
    "        print(f\"Battery Capacity: {self.battery_capacity} kWh, Charge Level: {self.charge_level}%\")\n",
    "\n",
    "\n",
    "electric_car = Electric_car(\"Tesla\", \"Model S\", 2023, 12000, 100, 75)\n",
    "\n",
    "\n",
    "electric_car.display_info()\n",
    "electric_car.charge(20)\n",
    "electric_car.display_info()"
   ]
  },
  {
   "cell_type": "markdown",
   "metadata": {},
   "source": [
    "#### C) Brief explanation on how a class demonstartes modularity, reusability and maintainability. \n",
    "\n",
    "#####   The Electric_car class demonstrates modularity by separating the electric car's specific behavior\n",
    "#### (such as charging) into its own class while inheriting common car attributes and methods from the Car class.\n",
    "#### This allows for reusability since the Car class can be used to define multiple types of vehicles,\n",
    "#### and Electric_car can extend that functionality without duplicating code.\n",
    "#### Additionally, OOP enhances maintainability because if changes are needed (e.g., updating how cars display information),\n",
    "#### we can modify the parent Car class, and all child classes will automatically inherit these changes without needing to adjust each one individually.\n"
   ]
  },
  {
   "cell_type": "markdown",
   "metadata": {},
   "source": []
  }
 ],
 "metadata": {
  "kernelspec": {
   "display_name": "Python 3",
   "language": "python",
   "name": "python3"
  },
  "language_info": {
   "codemirror_mode": {
    "name": "ipython",
    "version": 3
   },
   "file_extension": ".py",
   "mimetype": "text/x-python",
   "name": "python",
   "nbconvert_exporter": "python",
   "pygments_lexer": "ipython3",
   "version": "3.12.5"
  }
 },
 "nbformat": 4,
 "nbformat_minor": 2
}
