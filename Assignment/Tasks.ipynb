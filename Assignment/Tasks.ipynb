{
 "cells": [
  {
   "cell_type": "markdown",
   "metadata": {},
   "source": [
    "### A class with no variables"
   ]
  },
  {
   "cell_type": "code",
   "execution_count": 1,
   "metadata": {},
   "outputs": [],
   "source": [
    "class Vehicle:\n",
    "    def __init__ (self):\n",
    "        pass\n"
   ]
  },
  {
   "cell_type": "markdown",
   "metadata": {},
   "source": [
    "### Python program to create a class vehicle with 2 instance variables (speed and mileaage)"
   ]
  },
  {
   "cell_type": "code",
   "execution_count": 4,
   "metadata": {},
   "outputs": [
    {
     "name": "stdout",
     "output_type": "stream",
     "text": [
      "The car has a speed of 300Km/h and mileage of  2000Km. \n"
     ]
    }
   ],
   "source": [
    "class Vehicle:\n",
    "    def __init__(self, speed, mileage):\n",
    "        self.speed = speed\n",
    "        self.mileage = mileage  \n",
    "\n",
    "BMW = Vehicle(300, 2000)\n",
    "\n",
    "print (f'The car has a speed of {BMW.speed}Km/h and mileage of  {BMW.mileage}Km. ')"
   ]
  },
  {
   "cell_type": "code",
   "execution_count": 7,
   "metadata": {},
   "outputs": [
    {
     "name": "stdout",
     "output_type": "stream",
     "text": [
      "300\n"
     ]
    }
   ],
   "source": [
    "class Bus(Vehicle):\n",
    "    pass\n",
    "    # def __init__(self, brand, model, year, capacity):\n",
    "    #     super().__init__(brand, model, year)\n",
    "\n",
    "\n",
    "BMW = Bus(300, 2000)\n",
    "print (BMW.speed)"
   ]
  },
  {
   "cell_type": "markdown",
   "metadata": {},
   "source": []
  }
 ],
 "metadata": {
  "kernelspec": {
   "display_name": "Python 3",
   "language": "python",
   "name": "python3"
  },
  "language_info": {
   "codemirror_mode": {
    "name": "ipython",
    "version": 3
   },
   "file_extension": ".py",
   "mimetype": "text/x-python",
   "name": "python",
   "nbconvert_exporter": "python",
   "pygments_lexer": "ipython3",
   "version": "3.12.5"
  }
 },
 "nbformat": 4,
 "nbformat_minor": 2
}
